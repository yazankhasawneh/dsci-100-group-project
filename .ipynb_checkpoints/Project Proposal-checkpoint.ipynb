{
 "cells": [
  {
   "cell_type": "markdown",
   "metadata": {},
   "source": [
    "# Project Proposal"
   ]
  },
  {
   "cell_type": "markdown",
   "metadata": {},
   "source": [
    "## Introduction"
   ]
  },
  {
   "cell_type": "markdown",
   "metadata": {},
   "source": [
    "According to the World Stroke Organization, 1 in 4 adults over the age of 25 will have a stroke in their lifetime. Morever, 13.7 million people will have a stroke this year for the first time and over five million of them will die as a result. In addition, the CDC states that 80% of strokes are preventable if at-risk patients are identified and have their risk factors treated.\n",
    "\n",
    "To help identify at-risk patients and prevent strokes, we are trying to find out **which factor(s) included in the dataset increase the risk of stroke the most**. In-order to answer this question, we will be using the Stroke Prediction Dataset that features 11 clinical features for predicting strokes and has over 5100 observations, with each observation representing a unique patient. Although the dataset's source is confidential, the data seems to be accurate and complete."
   ]
  },
  {
   "cell_type": "markdown",
   "metadata": {},
   "source": [
    "## Preliminary Exploratory Data Analysis"
   ]
  },
  {
   "cell_type": "code",
   "execution_count": null,
   "metadata": {},
   "outputs": [],
   "source": []
  },
  {
   "cell_type": "markdown",
   "metadata": {},
   "source": [
    "## Methods"
   ]
  },
  {
   "cell_type": "markdown",
   "metadata": {},
   "source": []
  },
  {
   "cell_type": "markdown",
   "metadata": {},
   "source": [
    "## Expected Outcomes and Significance"
   ]
  },
  {
   "cell_type": "markdown",
   "metadata": {},
   "source": []
  }
 ],
 "metadata": {
  "kernelspec": {
   "display_name": "R",
   "language": "R",
   "name": "ir"
  },
  "language_info": {
   "codemirror_mode": "r",
   "file_extension": ".r",
   "mimetype": "text/x-r-source",
   "name": "R",
   "pygments_lexer": "r",
   "version": "4.0.0"
  }
 },
 "nbformat": 4,
 "nbformat_minor": 4
}
