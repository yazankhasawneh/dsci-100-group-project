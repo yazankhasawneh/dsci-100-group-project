{
 "cells": [
  {
   "cell_type": "markdown",
   "metadata": {},
   "source": [
    "# Project Proposal"
   ]
  },
  {
   "cell_type": "markdown",
   "metadata": {},
   "source": [
    "## Introduction"
   ]
  },
  {
   "cell_type": "markdown",
   "metadata": {},
   "source": [
    "According to the World Stroke Organization, 1 in 4 adults over the age of 25 will have a stroke in their lifetime. Morever, 13.7 million people will have a stroke this year for the first time and over five million of them will die as a result. In addition, the CDC states that 80% of strokes are preventable if at-risk patients are identified and have their risk factors treated.\n",
    "\n",
    "To help identify at-risk patients and prevent strokes, we are trying to find out **which factor(s) included in the dataset increase the risk of stroke the most**. In-order to answer this question, we will be using the Stroke Prediction Dataset that features 11 clinical features for predicting strokes and has over 5100 observations, with each observation representing a unique patient. Although the dataset's source is confidential, the data seems to be accurate and complete."
   ]
  },
  {
   "cell_type": "markdown",
   "metadata": {},
   "source": [
    "## Preliminary Exploratory Data Analysis"
   ]
  },
  {
   "cell_type": "code",
   "execution_count": null,
   "metadata": {},
   "outputs": [],
   "source": []
  },
  {
   "cell_type": "markdown",
   "metadata": {},
   "source": [
    "## Methods"
   ]
  },
  {
   "cell_type": "markdown",
   "metadata": {},
   "source": []
  },
  {
   "cell_type": "markdown",
   "metadata": {},
   "source": [
    "## Expected Outcomes and Significance"
   ]
  },
  {
   "cell_type": "markdown",
   "metadata": {},
   "source": [
    "Through this project we intend to analyze a patient’s clinical features and predict how likely the patient is to suffer from a stroke. These findings could be of great help to hospitals worldwide as it would make predicting strokes in patients easier and allow the hospital to take the necessary precautions to prepare for one and save a life. These findings could lead to medical examiners being able to pinpoint the key causes for strokes in patients and work towards ways to prevent those."
   ]
  }
 ],
 "metadata": {
  "kernelspec": {
   "display_name": "R",
   "language": "R",
   "name": "ir"
  },
  "language_info": {
   "codemirror_mode": "r",
   "file_extension": ".r",
   "mimetype": "text/x-r-source",
   "name": "R",
   "pygments_lexer": "r",
   "version": "4.0.0"
  }
 },
 "nbformat": 4,
 "nbformat_minor": 4
}
